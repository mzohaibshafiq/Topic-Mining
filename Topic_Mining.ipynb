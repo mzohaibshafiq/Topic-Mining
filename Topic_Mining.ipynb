{
  "nbformat": 4,
  "nbformat_minor": 0,
  "metadata": {
    "colab": {
      "name": "Topic Mining.ipynb",
      "provenance": [],
      "collapsed_sections": []
    },
    "kernelspec": {
      "name": "python3",
      "display_name": "Python 3"
    },
    "language_info": {
      "name": "python"
    }
  },
  "cells": [
    {
      "cell_type": "markdown",
      "source": [
        "# **Topic Mining for Research Articles using LSA/SVD**\n",
        "##Problem Statement\n",
        "In this era of research, we have access to huge archives of freely avaiable research papers. Therefore, finding relevent papers is time consuming. Topic minning or Topic modelling could facilitate this search by some means.\n",
        "##Dataset\n",
        "Dataset is very recent and is publically available. It contains two features/attributes:\n",
        "1. Title \n",
        "2. Abstract\n",
        "\n",
        "According to dataset each research article could relate to more then one topic. The possible topics could be:\n",
        "1. Computer Science\n",
        "2. Physics\n",
        "3. Mathematics\n",
        "4. Statistics\n",
        "5. Quantitative Biology\n",
        "6. Quantitative Finance\n",
        "\n",
        "##Goal\n",
        "Our goal is to find 3 major topics among all and the frequent vocabulary they contain. We will use Abstract for our task and will apply data mining techniques i.e LSA in this case to extract topics. \n",
        "\n",
        "\n",
        "\n",
        "**Link to dataset:** https://www.kaggle.com/blessondensil294/topic-modeling-for-research-articles/download"
      ],
      "metadata": {
        "id": "jI01YkX96dOp"
      }
    },
    {
      "cell_type": "markdown",
      "source": [
        "##Imports and Dataset Loading"
      ],
      "metadata": {
        "id": "76o2o4nd9-2q"
      }
    },
    {
      "cell_type": "code",
      "source": [
        "!wget https://www.dropbox.com/s/kqd3ihgjvcvzkbi/research_abstrcat.zip?dl=0"
      ],
      "metadata": {
        "colab": {
          "base_uri": "https://localhost:8080/"
        },
        "id": "1WAaLmtdP2Du",
        "outputId": "e593849a-244a-481c-cef8-b36331fe94f6"
      },
      "execution_count": 1,
      "outputs": [
        {
          "output_type": "stream",
          "name": "stdout",
          "text": [
            "--2022-02-10 17:44:22--  https://www.dropbox.com/s/kqd3ihgjvcvzkbi/research_abstrcat.zip?dl=0\n",
            "Resolving www.dropbox.com (www.dropbox.com)... 162.125.6.18, 2620:100:601c:18::a27d:612\n",
            "Connecting to www.dropbox.com (www.dropbox.com)|162.125.6.18|:443... connected.\n",
            "HTTP request sent, awaiting response... 301 Moved Permanently\n",
            "Location: /s/raw/kqd3ihgjvcvzkbi/research_abstrcat.zip [following]\n",
            "--2022-02-10 17:44:22--  https://www.dropbox.com/s/raw/kqd3ihgjvcvzkbi/research_abstrcat.zip\n",
            "Reusing existing connection to www.dropbox.com:443.\n",
            "HTTP request sent, awaiting response... 302 Found\n",
            "Location: https://uc17a9883767cb159c3f8d169755.dl.dropboxusercontent.com/cd/0/inline/Bffnhn8rvCWHD4L_PgGKQDeGRbnHKErHoV2iZt1Uv4vpOBSsKudNUB00Id0GzamUabTL4tuUZCpnxPUiSNohMlehY4se-pnO61nPySjktOBYOxmjam1ROOv6HJKcVi3dzktwWe5EWHBgepl0Czr8acMd/file# [following]\n",
            "--2022-02-10 17:44:22--  https://uc17a9883767cb159c3f8d169755.dl.dropboxusercontent.com/cd/0/inline/Bffnhn8rvCWHD4L_PgGKQDeGRbnHKErHoV2iZt1Uv4vpOBSsKudNUB00Id0GzamUabTL4tuUZCpnxPUiSNohMlehY4se-pnO61nPySjktOBYOxmjam1ROOv6HJKcVi3dzktwWe5EWHBgepl0Czr8acMd/file\n",
            "Resolving uc17a9883767cb159c3f8d169755.dl.dropboxusercontent.com (uc17a9883767cb159c3f8d169755.dl.dropboxusercontent.com)... 162.125.6.15, 2620:100:601f:15::a27d:90f\n",
            "Connecting to uc17a9883767cb159c3f8d169755.dl.dropboxusercontent.com (uc17a9883767cb159c3f8d169755.dl.dropboxusercontent.com)|162.125.6.15|:443... connected.\n",
            "HTTP request sent, awaiting response... 302 Found\n",
            "Location: /cd/0/inline2/BfcmQiFTq57j2YWSH6gmfBxnFpuDEZszBkcaSlg8YaaIIZI5HGc4KNW3jg4ocwswAtyX_VmEAbe7v4qlA2EldXnnnK1EdmGd40JaAOG69Wsz74cO9Bz86dH-wXpnfZs30r0ZQHsMf1-DLtPJELqmbhT-W_1SdR6v7684KSXwqBgj3ONNmXQOm9RprF1lYlxsyjxL5clqKM2uFDzdC8vOVAHSMhU7cFaTFuwkCFYMWzbfhjlln0rIZQwgQijUqPVWmVbjR71Lzi5B1-ffvclKANxER5WSwim1FEY6GlRCX97c1ZicbRewLVLRbTwNqyCi5bjFjxX45SmQo7SobME4ieOypngUQkAG7vXlo8hYR4ScyzkD-Oa-3rIhTrSzMqqEGLQ/file [following]\n",
            "--2022-02-10 17:44:22--  https://uc17a9883767cb159c3f8d169755.dl.dropboxusercontent.com/cd/0/inline2/BfcmQiFTq57j2YWSH6gmfBxnFpuDEZszBkcaSlg8YaaIIZI5HGc4KNW3jg4ocwswAtyX_VmEAbe7v4qlA2EldXnnnK1EdmGd40JaAOG69Wsz74cO9Bz86dH-wXpnfZs30r0ZQHsMf1-DLtPJELqmbhT-W_1SdR6v7684KSXwqBgj3ONNmXQOm9RprF1lYlxsyjxL5clqKM2uFDzdC8vOVAHSMhU7cFaTFuwkCFYMWzbfhjlln0rIZQwgQijUqPVWmVbjR71Lzi5B1-ffvclKANxER5WSwim1FEY6GlRCX97c1ZicbRewLVLRbTwNqyCi5bjFjxX45SmQo7SobME4ieOypngUQkAG7vXlo8hYR4ScyzkD-Oa-3rIhTrSzMqqEGLQ/file\n",
            "Reusing existing connection to uc17a9883767cb159c3f8d169755.dl.dropboxusercontent.com:443.\n",
            "HTTP request sent, awaiting response... 200 OK\n",
            "Length: unspecified [application/zip]\n",
            "Saving to: ‘research_abstrcat.zip?dl=0’\n",
            "\n",
            "research_abstrcat.z     [ <=>                ]   8.01M  --.-KB/s    in 0.06s   \n",
            "\n",
            "2022-02-10 17:44:23 (142 MB/s) - ‘research_abstrcat.zip?dl=0’ saved [8395123]\n",
            "\n"
          ]
        }
      ]
    },
    {
      "cell_type": "code",
      "source": [
        "!unzip /content/research_abstrcat.zip?dl=0"
      ],
      "metadata": {
        "colab": {
          "base_uri": "https://localhost:8080/"
        },
        "id": "isPcWfTMQAsH",
        "outputId": "79be977c-ddbc-4e7e-f3bb-a1d714040009"
      },
      "execution_count": 2,
      "outputs": [
        {
          "output_type": "stream",
          "name": "stdout",
          "text": [
            "Archive:  /content/research_abstrcat.zip?dl=0\n",
            "  inflating: train.csv               \n"
          ]
        }
      ]
    },
    {
      "cell_type": "code",
      "source": [
        "import pandas as pd\n",
        "import numpy as np\n",
        "import seaborn as sns\n",
        "import nltk\n",
        "import matplotlib.pyplot as plt\n",
        "import re\n",
        "from functools import reduce\n",
        "from nltk.corpus import stopwords\n",
        "from sklearn.feature_extraction.text import TfidfVectorizer\n",
        "from sklearn.decomposition import TruncatedSVD"
      ],
      "metadata": {
        "id": "iFzAbFoqmynd"
      },
      "execution_count": 3,
      "outputs": []
    },
    {
      "cell_type": "code",
      "source": [
        "data = pd.read_csv('train.csv')"
      ],
      "metadata": {
        "id": "kJQ4bNk4m2J_"
      },
      "execution_count": 4,
      "outputs": []
    },
    {
      "cell_type": "markdown",
      "source": [
        "##Data Analysis"
      ],
      "metadata": {
        "id": "YYASx_lW_iZZ"
      }
    },
    {
      "cell_type": "code",
      "source": [
        "data.head()"
      ],
      "metadata": {
        "colab": {
          "base_uri": "https://localhost:8080/",
          "height": 354
        },
        "id": "DQ_O0aSom5eg",
        "outputId": "3a68f0fd-f011-41c7-cf4c-705f22ad6def"
      },
      "execution_count": 5,
      "outputs": [
        {
          "output_type": "execute_result",
          "data": {
            "text/html": [
              "\n",
              "  <div id=\"df-d091e90d-0b44-44af-8549-fa622e8e1141\">\n",
              "    <div class=\"colab-df-container\">\n",
              "      <div>\n",
              "<style scoped>\n",
              "    .dataframe tbody tr th:only-of-type {\n",
              "        vertical-align: middle;\n",
              "    }\n",
              "\n",
              "    .dataframe tbody tr th {\n",
              "        vertical-align: top;\n",
              "    }\n",
              "\n",
              "    .dataframe thead th {\n",
              "        text-align: right;\n",
              "    }\n",
              "</style>\n",
              "<table border=\"1\" class=\"dataframe\">\n",
              "  <thead>\n",
              "    <tr style=\"text-align: right;\">\n",
              "      <th></th>\n",
              "      <th>ID</th>\n",
              "      <th>TITLE</th>\n",
              "      <th>ABSTRACT</th>\n",
              "      <th>Computer Science</th>\n",
              "      <th>Physics</th>\n",
              "      <th>Mathematics</th>\n",
              "      <th>Statistics</th>\n",
              "      <th>Quantitative Biology</th>\n",
              "      <th>Quantitative Finance</th>\n",
              "    </tr>\n",
              "  </thead>\n",
              "  <tbody>\n",
              "    <tr>\n",
              "      <th>0</th>\n",
              "      <td>1</td>\n",
              "      <td>Reconstructing Subject-Specific Effect Maps</td>\n",
              "      <td>Predictive models allow subject-specific inf...</td>\n",
              "      <td>1</td>\n",
              "      <td>0</td>\n",
              "      <td>0</td>\n",
              "      <td>0</td>\n",
              "      <td>0</td>\n",
              "      <td>0</td>\n",
              "    </tr>\n",
              "    <tr>\n",
              "      <th>1</th>\n",
              "      <td>2</td>\n",
              "      <td>Rotation Invariance Neural Network</td>\n",
              "      <td>Rotation invariance and translation invarian...</td>\n",
              "      <td>1</td>\n",
              "      <td>0</td>\n",
              "      <td>0</td>\n",
              "      <td>0</td>\n",
              "      <td>0</td>\n",
              "      <td>0</td>\n",
              "    </tr>\n",
              "    <tr>\n",
              "      <th>2</th>\n",
              "      <td>3</td>\n",
              "      <td>Spherical polyharmonics and Poisson kernels fo...</td>\n",
              "      <td>We introduce and develop the notion of spher...</td>\n",
              "      <td>0</td>\n",
              "      <td>0</td>\n",
              "      <td>1</td>\n",
              "      <td>0</td>\n",
              "      <td>0</td>\n",
              "      <td>0</td>\n",
              "    </tr>\n",
              "    <tr>\n",
              "      <th>3</th>\n",
              "      <td>4</td>\n",
              "      <td>A finite element approximation for the stochas...</td>\n",
              "      <td>The stochastic Landau--Lifshitz--Gilbert (LL...</td>\n",
              "      <td>0</td>\n",
              "      <td>0</td>\n",
              "      <td>1</td>\n",
              "      <td>0</td>\n",
              "      <td>0</td>\n",
              "      <td>0</td>\n",
              "    </tr>\n",
              "    <tr>\n",
              "      <th>4</th>\n",
              "      <td>5</td>\n",
              "      <td>Comparative study of Discrete Wavelet Transfor...</td>\n",
              "      <td>Fourier-transform infra-red (FTIR) spectra o...</td>\n",
              "      <td>1</td>\n",
              "      <td>0</td>\n",
              "      <td>0</td>\n",
              "      <td>1</td>\n",
              "      <td>0</td>\n",
              "      <td>0</td>\n",
              "    </tr>\n",
              "  </tbody>\n",
              "</table>\n",
              "</div>\n",
              "      <button class=\"colab-df-convert\" onclick=\"convertToInteractive('df-d091e90d-0b44-44af-8549-fa622e8e1141')\"\n",
              "              title=\"Convert this dataframe to an interactive table.\"\n",
              "              style=\"display:none;\">\n",
              "        \n",
              "  <svg xmlns=\"http://www.w3.org/2000/svg\" height=\"24px\"viewBox=\"0 0 24 24\"\n",
              "       width=\"24px\">\n",
              "    <path d=\"M0 0h24v24H0V0z\" fill=\"none\"/>\n",
              "    <path d=\"M18.56 5.44l.94 2.06.94-2.06 2.06-.94-2.06-.94-.94-2.06-.94 2.06-2.06.94zm-11 1L8.5 8.5l.94-2.06 2.06-.94-2.06-.94L8.5 2.5l-.94 2.06-2.06.94zm10 10l.94 2.06.94-2.06 2.06-.94-2.06-.94-.94-2.06-.94 2.06-2.06.94z\"/><path d=\"M17.41 7.96l-1.37-1.37c-.4-.4-.92-.59-1.43-.59-.52 0-1.04.2-1.43.59L10.3 9.45l-7.72 7.72c-.78.78-.78 2.05 0 2.83L4 21.41c.39.39.9.59 1.41.59.51 0 1.02-.2 1.41-.59l7.78-7.78 2.81-2.81c.8-.78.8-2.07 0-2.86zM5.41 20L4 18.59l7.72-7.72 1.47 1.35L5.41 20z\"/>\n",
              "  </svg>\n",
              "      </button>\n",
              "      \n",
              "  <style>\n",
              "    .colab-df-container {\n",
              "      display:flex;\n",
              "      flex-wrap:wrap;\n",
              "      gap: 12px;\n",
              "    }\n",
              "\n",
              "    .colab-df-convert {\n",
              "      background-color: #E8F0FE;\n",
              "      border: none;\n",
              "      border-radius: 50%;\n",
              "      cursor: pointer;\n",
              "      display: none;\n",
              "      fill: #1967D2;\n",
              "      height: 32px;\n",
              "      padding: 0 0 0 0;\n",
              "      width: 32px;\n",
              "    }\n",
              "\n",
              "    .colab-df-convert:hover {\n",
              "      background-color: #E2EBFA;\n",
              "      box-shadow: 0px 1px 2px rgba(60, 64, 67, 0.3), 0px 1px 3px 1px rgba(60, 64, 67, 0.15);\n",
              "      fill: #174EA6;\n",
              "    }\n",
              "\n",
              "    [theme=dark] .colab-df-convert {\n",
              "      background-color: #3B4455;\n",
              "      fill: #D2E3FC;\n",
              "    }\n",
              "\n",
              "    [theme=dark] .colab-df-convert:hover {\n",
              "      background-color: #434B5C;\n",
              "      box-shadow: 0px 1px 3px 1px rgba(0, 0, 0, 0.15);\n",
              "      filter: drop-shadow(0px 1px 2px rgba(0, 0, 0, 0.3));\n",
              "      fill: #FFFFFF;\n",
              "    }\n",
              "  </style>\n",
              "\n",
              "      <script>\n",
              "        const buttonEl =\n",
              "          document.querySelector('#df-d091e90d-0b44-44af-8549-fa622e8e1141 button.colab-df-convert');\n",
              "        buttonEl.style.display =\n",
              "          google.colab.kernel.accessAllowed ? 'block' : 'none';\n",
              "\n",
              "        async function convertToInteractive(key) {\n",
              "          const element = document.querySelector('#df-d091e90d-0b44-44af-8549-fa622e8e1141');\n",
              "          const dataTable =\n",
              "            await google.colab.kernel.invokeFunction('convertToInteractive',\n",
              "                                                     [key], {});\n",
              "          if (!dataTable) return;\n",
              "\n",
              "          const docLinkHtml = 'Like what you see? Visit the ' +\n",
              "            '<a target=\"_blank\" href=https://colab.research.google.com/notebooks/data_table.ipynb>data table notebook</a>'\n",
              "            + ' to learn more about interactive tables.';\n",
              "          element.innerHTML = '';\n",
              "          dataTable['output_type'] = 'display_data';\n",
              "          await google.colab.output.renderOutput(dataTable, element);\n",
              "          const docLink = document.createElement('div');\n",
              "          docLink.innerHTML = docLinkHtml;\n",
              "          element.appendChild(docLink);\n",
              "        }\n",
              "      </script>\n",
              "    </div>\n",
              "  </div>\n",
              "  "
            ],
            "text/plain": [
              "   ID  ... Quantitative Finance\n",
              "0   1  ...                    0\n",
              "1   2  ...                    0\n",
              "2   3  ...                    0\n",
              "3   4  ...                    0\n",
              "4   5  ...                    0\n",
              "\n",
              "[5 rows x 9 columns]"
            ]
          },
          "metadata": {},
          "execution_count": 5
        }
      ]
    },
    {
      "cell_type": "code",
      "source": [
        "#checking if there exist any null/empty abstract \n",
        "data['ABSTRACT'].isnull().any()"
      ],
      "metadata": {
        "colab": {
          "base_uri": "https://localhost:8080/"
        },
        "id": "_mO7eN86_p_v",
        "outputId": "dc696206-2418-491a-f67f-ab18c85509a5"
      },
      "execution_count": 6,
      "outputs": [
        {
          "output_type": "execute_result",
          "data": {
            "text/plain": [
              "False"
            ]
          },
          "metadata": {},
          "execution_count": 6
        }
      ]
    },
    {
      "cell_type": "markdown",
      "source": [
        "Our dataset contains **20972 articles** and **26267 labels**. There exist no article without label. And the reason why number of labels is greater is becuase each article may belong to one or more category/topic. "
      ],
      "metadata": {
        "id": "pwMZ5etcAQ7t"
      }
    },
    {
      "cell_type": "code",
      "source": [
        "x = data.iloc[:,3:].sum() #caluclating how many research articles are there for each category\n",
        "rowsum = data.iloc[:,2:].sum(axis = 1) #calculating how much categroies each paper belong to\n",
        "no_of_label_count = 0\n",
        "\n",
        "for sum in rowsum.items():\n",
        "  if sum == 0:\n",
        "    no_of_label_count += 1\n",
        "\n",
        "print(\"Total number of articles = \",len(data))\n",
        "print(\"Total number of articles without label = \",no_of_label_count)\n",
        "print(\"total labels = \",x.sum())"
      ],
      "metadata": {
        "colab": {
          "base_uri": "https://localhost:8080/"
        },
        "id": "lGi3LGhjm9GM",
        "outputId": "4af947b5-3b5d-4522-b439-2f9afe2c13b2"
      },
      "execution_count": 9,
      "outputs": [
        {
          "output_type": "stream",
          "name": "stdout",
          "text": [
            "Total number of articles =  20972\n",
            "Total number of articles without label =  0\n",
            "total labels =  26267\n"
          ]
        },
        {
          "output_type": "stream",
          "name": "stderr",
          "text": [
            "/usr/local/lib/python3.7/dist-packages/ipykernel_launcher.py:2: FutureWarning: Dropping of nuisance columns in DataFrame reductions (with 'numeric_only=None') is deprecated; in a future version this will raise TypeError.  Select only valid columns before calling the reduction.\n",
            "  \n"
          ]
        }
      ]
    },
    {
      "cell_type": "markdown",
      "source": [
        "##Visualization"
      ],
      "metadata": {
        "id": "dr_dRZpsBFAy"
      }
    },
    {
      "cell_type": "markdown",
      "source": [
        "Frequency of categories by which an article may belong. "
      ],
      "metadata": {
        "id": "9lKZB0mbAqGc"
      }
    },
    {
      "cell_type": "code",
      "source": [
        "topic_frequency = list(x)\n",
        "top = ['Computer Science', 'Physics', 'Mathematics', 'Statistics', 'Quantitative Biology', 'Quantitative Finance']"
      ],
      "metadata": {
        "id": "tDzroSuLofb8"
      },
      "execution_count": 10,
      "outputs": []
    },
    {
      "cell_type": "code",
      "source": [
        "plt.figure(figsize=(14,8))\n",
        "sns.barplot(x=top, y=topic_frequency)\n",
        "plt.xlabel('Topic')\n",
        "plt.ylabel('Frequency')\n",
        "plt.xticks(rotation=90);"
      ],
      "metadata": {
        "colab": {
          "base_uri": "https://localhost:8080/",
          "height": 590
        },
        "id": "25Lm39SrngO7",
        "outputId": "fad2a5b6-dd97-4541-c7ee-02dee0a91799"
      },
      "execution_count": 11,
      "outputs": [
        {
          "output_type": "display_data",
          "data": {
            "image/png": "[encoded data removed]",
            "text/plain": [
              "<Figure size 1008x576 with 1 Axes>"
            ]
          },
          "metadata": {
            "needs_background": "light"
          }
        }
      ]
    },
    {
      "cell_type": "markdown",
      "source": [
        "##Pre-Processing"
      ],
      "metadata": {
        "id": "pAsCYT7JBIxM"
      }
    },
    {
      "cell_type": "markdown",
      "source": [
        "Since we have to deal with unstructred data (Natural Language). It is very important to clean it for further reuse therefore we pre process our data."
      ],
      "metadata": {
        "id": "xriwyXrgBNyA"
      }
    },
    {
      "cell_type": "code",
      "source": [
        "data['ABSTRACT'][0]"
      ],
      "metadata": {
        "colab": {
          "base_uri": "https://localhost:8080/",
          "height": 140
        },
        "id": "UvMMPqVmq8FL",
        "outputId": "154761f2-caf1-4a93-9541-0262771e270c"
      },
      "execution_count": 12,
      "outputs": [
        {
          "output_type": "execute_result",
          "data": {
            "application/vnd.google.colaboratory.intrinsic+json": {
              "type": "string"
            },
            "text/plain": [
              "\"  Predictive models allow subject-specific inference when analyzing disease\\nrelated alterations in neuroimaging data. Given a subject's data, inference can\\nbe made at two levels: global, i.e. identifiying condition presence for the\\nsubject, and local, i.e. detecting condition effect on each individual\\nmeasurement extracted from the subject's data. While global inference is widely\\nused, local inference, which can be used to form subject-specific effect maps,\\nis rarely used because existing models often yield noisy detections composed of\\ndispersed isolated islands. In this article, we propose a reconstruction\\nmethod, named RSM, to improve subject-specific detections of predictive\\nmodeling approaches and in particular, binary classifiers. RSM specifically\\naims to reduce noise due to sampling error associated with using a finite\\nsample of examples to train classifiers. The proposed method is a wrapper-type\\nalgorithm that can be used with different binary classifiers in a diagnostic\\nmanner, i.e. without information on condition presence. Reconstruction is posed\\nas a Maximum-A-Posteriori problem with a prior model whose parameters are\\nestimated from training data in a classifier-specific fashion. Experimental\\nevaluation is performed on synthetically generated data and data from the\\nAlzheimer's Disease Neuroimaging Initiative (ADNI) database. Results on\\nsynthetic data demonstrate that using RSM yields higher detection accuracy\\ncompared to using models directly or with bootstrap averaging. Analyses on the\\nADNI dataset show that RSM can also improve correlation between\\nsubject-specific detections in cortical thickness data and non-imaging markers\\nof Alzheimer's Disease (AD), such as the Mini Mental State Examination Score\\nand Cerebrospinal Fluid amyloid-$\\\\beta$ levels. Further reliability studies on\\nthe longitudinal ADNI dataset show improvement on detection reliability when\\nRSM is used.\\n\""
            ]
          },
          "metadata": {},
          "execution_count": 12
        }
      ]
    },
    {
      "cell_type": "code",
      "source": [
        "data['ABSTRACT'] = data['ABSTRACT'].str.lower()"
      ],
      "metadata": {
        "id": "nLqPq_4sc7MO"
      },
      "execution_count": 13,
      "outputs": []
    },
    {
      "cell_type": "code",
      "source": [
        "#Removing newlines\n",
        "def remove_newline(text):\n",
        "    return re.sub('\\n',' ', text)\n",
        "data['ABSTRACT'] = data['ABSTRACT'].apply(lambda x: remove_newline(x))"
      ],
      "metadata": {
        "id": "1l3zVvaRuPXp"
      },
      "execution_count": 14,
      "outputs": []
    },
    {
      "cell_type": "code",
      "source": [
        "#Removing anything that comes between brackets as it is redundent and brings no useful information\n",
        "def rem_inbtw(text):\n",
        "  return re.sub('\\((.*?)\\)', '', text)\n",
        "data['ABSTRACT'] = data['ABSTRACT'].apply(lambda x: rem_inbtw(x))"
      ],
      "metadata": {
        "id": "P7PezgxOvBU4"
      },
      "execution_count": 15,
      "outputs": []
    },
    {
      "cell_type": "code",
      "source": [
        "GOOD_SYMBOLS_RE = re.compile('[^a-z]')\n",
        "#Removing any character other than those of described above\n",
        "def filter_out_uncommon_symbols(text):\n",
        "    return GOOD_SYMBOLS_RE.sub(' ', text)\n",
        "data['ABSTRACT'] = data['ABSTRACT'].apply(lambda x: filter_out_uncommon_symbols(x))"
      ],
      "metadata": {
        "id": "C-9_oPxIcNAu"
      },
      "execution_count": 16,
      "outputs": []
    },
    {
      "cell_type": "code",
      "source": [
        "def strip_text(text):\n",
        "    return re.sub('  +',' ',text)\n",
        "data['ABSTRACT'] = data['ABSTRACT'].apply(lambda x: strip_text(x))"
      ],
      "metadata": {
        "id": "jIeS5fFQcYk0"
      },
      "execution_count": 17,
      "outputs": []
    },
    {
      "cell_type": "code",
      "source": [
        "#Removing unnecessary spaces\n",
        "def strip_text(text):\n",
        "    return text.strip()\n",
        "data['ABSTRACT'] = data['ABSTRACT'].apply(lambda x: strip_text(x))"
      ],
      "metadata": {
        "id": "b6YaPLzUuliP"
      },
      "execution_count": 18,
      "outputs": []
    },
    {
      "cell_type": "code",
      "source": [
        "data['ABSTRACT'][0]"
      ],
      "metadata": {
        "colab": {
          "base_uri": "https://localhost:8080/",
          "height": 140
        },
        "id": "1E4bL1yzZCCC",
        "outputId": "dd3c199e-3a29-430f-d1bb-1095df657b84"
      },
      "execution_count": 19,
      "outputs": [
        {
          "output_type": "execute_result",
          "data": {
            "application/vnd.google.colaboratory.intrinsic+json": {
              "type": "string"
            },
            "text/plain": [
              "'predictive models allow subject specific inference when analyzing disease related alterations in neuroimaging data given a subject s data inference can be made at two levels global i e identifiying condition presence for the subject and local i e detecting condition effect on each individual measurement extracted from the subject s data while global inference is widely used local inference which can be used to form subject specific effect maps is rarely used because existing models often yield noisy detections composed of dispersed isolated islands in this article we propose a reconstruction method named rsm to improve subject specific detections of predictive modeling approaches and in particular binary classifiers rsm specifically aims to reduce noise due to sampling error associated with using a finite sample of examples to train classifiers the proposed method is a wrapper type algorithm that can be used with different binary classifiers in a diagnostic manner i e without information on condition presence reconstruction is posed as a maximum a posteriori problem with a prior model whose parameters are estimated from training data in a classifier specific fashion experimental evaluation is performed on synthetically generated data and data from the alzheimer s disease neuroimaging initiative database results on synthetic data demonstrate that using rsm yields higher detection accuracy compared to using models directly or with bootstrap averaging analyses on the adni dataset show that rsm can also improve correlation between subject specific detections in cortical thickness data and non imaging markers of alzheimer s disease such as the mini mental state examination score and cerebrospinal fluid amyloid beta levels further reliability studies on the longitudinal adni dataset show improvement on detection reliability when rsm is used'"
            ]
          },
          "metadata": {},
          "execution_count": 19
        }
      ]
    },
    {
      "cell_type": "code",
      "source": [
        "data"
      ],
      "metadata": {
        "colab": {
          "base_uri": "https://localhost:8080/",
          "height": 659
        },
        "id": "FmdfrX5cq_Pm",
        "outputId": "17096dd4-6cd6-4296-8c84-b171f4e53316"
      },
      "execution_count": 20,
      "outputs": [
        {
          "output_type": "execute_result",
          "data": {
            "text/html": [
              "\n",
              "  <div id=\"df-bd0d986d-b40b-4b10-942c-f7f87e40d942\">\n",
              "    <div class=\"colab-df-container\">\n",
              "      <div>\n",
              "<style scoped>\n",
              "    .dataframe tbody tr th:only-of-type {\n",
              "        vertical-align: middle;\n",
              "    }\n",
              "\n",
              "    .dataframe tbody tr th {\n",
              "        vertical-align: top;\n",
              "    }\n",
              "\n",
              "    .dataframe thead th {\n",
              "        text-align: right;\n",
              "    }\n",
              "</style>\n",
              "<table border=\"1\" class=\"dataframe\">\n",
              "  <thead>\n",
              "    <tr style=\"text-align: right;\">\n",
              "      <th></th>\n",
              "      <th>ID</th>\n",
              "      <th>TITLE</th>\n",
              "      <th>ABSTRACT</th>\n",
              "      <th>Computer Science</th>\n",
              "      <th>Physics</th>\n",
              "      <th>Mathematics</th>\n",
              "      <th>Statistics</th>\n",
              "      <th>Quantitative Biology</th>\n",
              "      <th>Quantitative Finance</th>\n",
              "    </tr>\n",
              "  </thead>\n",
              "  <tbody>\n",
              "    <tr>\n",
              "      <th>0</th>\n",
              "      <td>1</td>\n",
              "      <td>Reconstructing Subject-Specific Effect Maps</td>\n",
              "      <td>predictive models allow subject specific infer...</td>\n",
              "      <td>1</td>\n",
              "      <td>0</td>\n",
              "      <td>0</td>\n",
              "      <td>0</td>\n",
              "      <td>0</td>\n",
              "      <td>0</td>\n",
              "    </tr>\n",
              "    <tr>\n",
              "      <th>1</th>\n",
              "      <td>2</td>\n",
              "      <td>Rotation Invariance Neural Network</td>\n",
              "      <td>rotation invariance and translation invariance...</td>\n",
              "      <td>1</td>\n",
              "      <td>0</td>\n",
              "      <td>0</td>\n",
              "      <td>0</td>\n",
              "      <td>0</td>\n",
              "      <td>0</td>\n",
              "    </tr>\n",
              "    <tr>\n",
              "      <th>2</th>\n",
              "      <td>3</td>\n",
              "      <td>Spherical polyharmonics and Poisson kernels fo...</td>\n",
              "      <td>we introduce and develop the notion of spheric...</td>\n",
              "      <td>0</td>\n",
              "      <td>0</td>\n",
              "      <td>1</td>\n",
              "      <td>0</td>\n",
              "      <td>0</td>\n",
              "      <td>0</td>\n",
              "    </tr>\n",
              "    <tr>\n",
              "      <th>3</th>\n",
              "      <td>4</td>\n",
              "      <td>A finite element approximation for the stochas...</td>\n",
              "      <td>the stochastic landau lifshitz gilbert equatio...</td>\n",
              "      <td>0</td>\n",
              "      <td>0</td>\n",
              "      <td>1</td>\n",
              "      <td>0</td>\n",
              "      <td>0</td>\n",
              "      <td>0</td>\n",
              "    </tr>\n",
              "    <tr>\n",
              "      <th>4</th>\n",
              "      <td>5</td>\n",
              "      <td>Comparative study of Discrete Wavelet Transfor...</td>\n",
              "      <td>fourier transform infra red spectra of samples...</td>\n",
              "      <td>1</td>\n",
              "      <td>0</td>\n",
              "      <td>0</td>\n",
              "      <td>1</td>\n",
              "      <td>0</td>\n",
              "      <td>0</td>\n",
              "    </tr>\n",
              "    <tr>\n",
              "      <th>...</th>\n",
              "      <td>...</td>\n",
              "      <td>...</td>\n",
              "      <td>...</td>\n",
              "      <td>...</td>\n",
              "      <td>...</td>\n",
              "      <td>...</td>\n",
              "      <td>...</td>\n",
              "      <td>...</td>\n",
              "      <td>...</td>\n",
              "    </tr>\n",
              "    <tr>\n",
              "      <th>20967</th>\n",
              "      <td>20968</td>\n",
              "      <td>Contemporary machine learning: a guide for pra...</td>\n",
              "      <td>machine learning is finding increasingly broad...</td>\n",
              "      <td>1</td>\n",
              "      <td>1</td>\n",
              "      <td>0</td>\n",
              "      <td>0</td>\n",
              "      <td>0</td>\n",
              "      <td>0</td>\n",
              "    </tr>\n",
              "    <tr>\n",
              "      <th>20968</th>\n",
              "      <td>20969</td>\n",
              "      <td>Uniform diamond coatings on WC-Co hard alloy c...</td>\n",
              "      <td>polycrystalline diamond coatings have been gro...</td>\n",
              "      <td>0</td>\n",
              "      <td>1</td>\n",
              "      <td>0</td>\n",
              "      <td>0</td>\n",
              "      <td>0</td>\n",
              "      <td>0</td>\n",
              "    </tr>\n",
              "    <tr>\n",
              "      <th>20969</th>\n",
              "      <td>20970</td>\n",
              "      <td>Analysing Soccer Games with Clustering and Con...</td>\n",
              "      <td>we present a new approach for identifying situ...</td>\n",
              "      <td>1</td>\n",
              "      <td>0</td>\n",
              "      <td>0</td>\n",
              "      <td>0</td>\n",
              "      <td>0</td>\n",
              "      <td>0</td>\n",
              "    </tr>\n",
              "    <tr>\n",
              "      <th>20970</th>\n",
              "      <td>20971</td>\n",
              "      <td>On the Efficient Simulation of the Left-Tail o...</td>\n",
              "      <td>the sum of log normal variates is encountered ...</td>\n",
              "      <td>0</td>\n",
              "      <td>0</td>\n",
              "      <td>1</td>\n",
              "      <td>1</td>\n",
              "      <td>0</td>\n",
              "      <td>0</td>\n",
              "    </tr>\n",
              "    <tr>\n",
              "      <th>20971</th>\n",
              "      <td>20972</td>\n",
              "      <td>Why optional stopping is a problem for Bayesians</td>\n",
              "      <td>recently optional stopping has been a subject ...</td>\n",
              "      <td>0</td>\n",
              "      <td>0</td>\n",
              "      <td>1</td>\n",
              "      <td>1</td>\n",
              "      <td>0</td>\n",
              "      <td>0</td>\n",
              "    </tr>\n",
              "  </tbody>\n",
              "</table>\n",
              "<p>20972 rows × 9 columns</p>\n",
              "</div>\n",
              "      <button class=\"colab-df-convert\" onclick=\"convertToInteractive('df-bd0d986d-b40b-4b10-942c-f7f87e40d942')\"\n",
              "              title=\"Convert this dataframe to an interactive table.\"\n",
              "              style=\"display:none;\">\n",
              "        \n",
              "  <svg xmlns=\"http://www.w3.org/2000/svg\" height=\"24px\"viewBox=\"0 0 24 24\"\n",
              "       width=\"24px\">\n",
              "    <path d=\"M0 0h24v24H0V0z\" fill=\"none\"/>\n",
              "    <path d=\"M18.56 5.44l.94 2.06.94-2.06 2.06-.94-2.06-.94-.94-2.06-.94 2.06-2.06.94zm-11 1L8.5 8.5l.94-2.06 2.06-.94-2.06-.94L8.5 2.5l-.94 2.06-2.06.94zm10 10l.94 2.06.94-2.06 2.06-.94-2.06-.94-.94-2.06-.94 2.06-2.06.94z\"/><path d=\"M17.41 7.96l-1.37-1.37c-.4-.4-.92-.59-1.43-.59-.52 0-1.04.2-1.43.59L10.3 9.45l-7.72 7.72c-.78.78-.78 2.05 0 2.83L4 21.41c.39.39.9.59 1.41.59.51 0 1.02-.2 1.41-.59l7.78-7.78 2.81-2.81c.8-.78.8-2.07 0-2.86zM5.41 20L4 18.59l7.72-7.72 1.47 1.35L5.41 20z\"/>\n",
              "  </svg>\n",
              "      </button>\n",
              "      \n",
              "  <style>\n",
              "    .colab-df-container {\n",
              "      display:flex;\n",
              "      flex-wrap:wrap;\n",
              "      gap: 12px;\n",
              "    }\n",
              "\n",
              "    .colab-df-convert {\n",
              "      background-color: #E8F0FE;\n",
              "      border: none;\n",
              "      border-radius: 50%;\n",
              "      cursor: pointer;\n",
              "      display: none;\n",
              "      fill: #1967D2;\n",
              "      height: 32px;\n",
              "      padding: 0 0 0 0;\n",
              "      width: 32px;\n",
              "    }\n",
              "\n",
              "    .colab-df-convert:hover {\n",
              "      background-color: #E2EBFA;\n",
              "      box-shadow: 0px 1px 2px rgba(60, 64, 67, 0.3), 0px 1px 3px 1px rgba(60, 64, 67, 0.15);\n",
              "      fill: #174EA6;\n",
              "    }\n",
              "\n",
              "    [theme=dark] .colab-df-convert {\n",
              "      background-color: #3B4455;\n",
              "      fill: #D2E3FC;\n",
              "    }\n",
              "\n",
              "    [theme=dark] .colab-df-convert:hover {\n",
              "      background-color: #434B5C;\n",
              "      box-shadow: 0px 1px 3px 1px rgba(0, 0, 0, 0.15);\n",
              "      filter: drop-shadow(0px 1px 2px rgba(0, 0, 0, 0.3));\n",
              "      fill: #FFFFFF;\n",
              "    }\n",
              "  </style>\n",
              "\n",
              "      <script>\n",
              "        const buttonEl =\n",
              "          document.querySelector('#df-bd0d986d-b40b-4b10-942c-f7f87e40d942 button.colab-df-convert');\n",
              "        buttonEl.style.display =\n",
              "          google.colab.kernel.accessAllowed ? 'block' : 'none';\n",
              "\n",
              "        async function convertToInteractive(key) {\n",
              "          const element = document.querySelector('#df-bd0d986d-b40b-4b10-942c-f7f87e40d942');\n",
              "          const dataTable =\n",
              "            await google.colab.kernel.invokeFunction('convertToInteractive',\n",
              "                                                     [key], {});\n",
              "          if (!dataTable) return;\n",
              "\n",
              "          const docLinkHtml = 'Like what you see? Visit the ' +\n",
              "            '<a target=\"_blank\" href=https://colab.research.google.com/notebooks/data_table.ipynb>data table notebook</a>'\n",
              "            + ' to learn more about interactive tables.';\n",
              "          element.innerHTML = '';\n",
              "          dataTable['output_type'] = 'display_data';\n",
              "          await google.colab.output.renderOutput(dataTable, element);\n",
              "          const docLink = document.createElement('div');\n",
              "          docLink.innerHTML = docLinkHtml;\n",
              "          element.appendChild(docLink);\n",
              "        }\n",
              "      </script>\n",
              "    </div>\n",
              "  </div>\n",
              "  "
            ],
            "text/plain": [
              "          ID  ... Quantitative Finance\n",
              "0          1  ...                    0\n",
              "1          2  ...                    0\n",
              "2          3  ...                    0\n",
              "3          4  ...                    0\n",
              "4          5  ...                    0\n",
              "...      ...  ...                  ...\n",
              "20967  20968  ...                    0\n",
              "20968  20969  ...                    0\n",
              "20969  20970  ...                    0\n",
              "20970  20971  ...                    0\n",
              "20971  20972  ...                    0\n",
              "\n",
              "[20972 rows x 9 columns]"
            ]
          },
          "metadata": {},
          "execution_count": 20
        }
      ]
    },
    {
      "cell_type": "code",
      "source": [
        "nltk.download('stopwords')"
      ],
      "metadata": {
        "colab": {
          "base_uri": "https://localhost:8080/"
        },
        "id": "dqZdWh0Dwfpc",
        "outputId": "f409b169-0994-4db0-ee23-c939535272c1"
      },
      "execution_count": 21,
      "outputs": [
        {
          "output_type": "stream",
          "name": "stdout",
          "text": [
            "[nltk_data] Downloading package stopwords to /root/nltk_data...\n",
            "[nltk_data]   Unzipping corpora/stopwords.zip.\n"
          ]
        },
        {
          "output_type": "execute_result",
          "data": {
            "text/plain": [
              "True"
            ]
          },
          "metadata": {},
          "execution_count": 21
        }
      ]
    },
    {
      "cell_type": "code",
      "source": [
        "STOPWORDS=stopwords.words('english')"
      ],
      "metadata": {
        "id": "LqK50AkUwyoW"
      },
      "execution_count": 22,
      "outputs": []
    },
    {
      "cell_type": "markdown",
      "source": [
        "We concatinate predefined stopwords with the most common words used in all the articles to have a better representation of topics in the end (Main goal is to get rid of redundent words in all topics)."
      ],
      "metadata": {
        "id": "awitnHRjCAVA"
      }
    },
    {
      "cell_type": "code",
      "source": [
        "STOPWORDS = STOPWORDS + ['i e', 'learning', 'data', 'we', 'in', 'art', 'state', 'of', 'the', 'paper'\n",
        ", 'model', 'models', 'algorithm', 'network', 'methods', 'approach', 'proposed', 'showed', 'problem'\n",
        ", 'using', 'response', 'two', 'new', 'one', 'based', 'used', 'study', 'method', 'show', 'well', \n",
        "'non', 'use', 'propose', 'system', 'also', 'systems', 'large', 'high']"
      ],
      "metadata": {
        "id": "LTPe5cm3wz1z"
      },
      "execution_count": 23,
      "outputs": []
    },
    {
      "cell_type": "markdown",
      "source": [
        "##Encoding"
      ],
      "metadata": {
        "id": "v9p7WJYaCpBf"
      }
    },
    {
      "cell_type": "markdown",
      "source": [
        "Here we get some semantic information about the sentence. Importance is given to the words less common in all sentences. This converts the data into numerical format represented by matrix."
      ],
      "metadata": {
        "id": "IyfluSZbCgPy"
      }
    },
    {
      "cell_type": "code",
      "source": [
        "vectorizer = TfidfVectorizer(stop_words=STOPWORDS,\n",
        "                             max_features= 1000,  \n",
        "                             ngram_range = (1,4), \n",
        "                             smooth_idf=True) #to avoid zero division we set smooth_idf to TRUE\n",
        "\n",
        "X = vectorizer.fit_transform(data['ABSTRACT'])\n",
        "\n",
        "X.shape"
      ],
      "metadata": {
        "colab": {
          "base_uri": "https://localhost:8080/"
        },
        "id": "SdeW8le2yG66",
        "outputId": "f371aac7-257a-4200-a6d1-ecfe7caa6429"
      },
      "execution_count": 24,
      "outputs": [
        {
          "output_type": "execute_result",
          "data": {
            "text/plain": [
              "(20972, 1000)"
            ]
          },
          "metadata": {},
          "execution_count": 24
        }
      ]
    },
    {
      "cell_type": "markdown",
      "source": [
        "Here we get the names of the features (words in abstracts), this is our vocabulary. "
      ],
      "metadata": {
        "id": "0bWJTD0mCxRr"
      }
    },
    {
      "cell_type": "code",
      "source": [
        "dictionary = vectorizer.get_feature_names()"
      ],
      "metadata": {
        "colab": {
          "base_uri": "https://localhost:8080/"
        },
        "id": "jqUjUsVCye00",
        "outputId": "9215f2c7-244d-4f4c-bd32-bca837c031bd"
      },
      "execution_count": 25,
      "outputs": [
        {
          "output_type": "stream",
          "name": "stderr",
          "text": [
            "/usr/local/lib/python3.7/dist-packages/sklearn/utils/deprecation.py:87: FutureWarning: Function get_feature_names is deprecated; get_feature_names is deprecated in 1.0 and will be removed in 1.2. Please use get_feature_names_out instead.\n",
            "  warnings.warn(msg, category=FutureWarning)\n"
          ]
        }
      ]
    },
    {
      "cell_type": "markdown",
      "source": [
        "##Model Definition- (LSA/SVD)"
      ],
      "metadata": {
        "id": "o88WZRg_DGKX"
      }
    },
    {
      "cell_type": "markdown",
      "source": [
        "Here we pass as parameter top topics that we want to extract as **n_components**. Itried it with 4,5,6 but the results were very disappointing therefore I extracted top 3 topics and achived best results among all. "
      ],
      "metadata": {
        "id": "Exb_H3rODM07"
      }
    },
    {
      "cell_type": "code",
      "source": [
        "# SVD represent documents and terms in vectors \n",
        "svd_model = TruncatedSVD(n_components=3, algorithm='randomized')\n",
        "lsa = svd_model.fit_transform(X)"
      ],
      "metadata": {
        "id": "LPKrfo5oygRa"
      },
      "execution_count": 26,
      "outputs": []
    },
    {
      "cell_type": "code",
      "source": [
        "pd.options.display.float_format = '{:,.16f}'.format\n",
        "topic_encoded_df = pd.DataFrame(lsa, columns = [\"topic_1\", \"topic_2\", \"topic_3\"])\n",
        "topic_encoded_df[\"ABSTRACT\"] = data['ABSTRACT']\n",
        "display(topic_encoded_df[[\"ABSTRACT\", \"topic_1\", \"topic_2\", \"topic_3\"]])"
      ],
      "metadata": {
        "colab": {
          "base_uri": "https://localhost:8080/",
          "height": 424
        },
        "id": "ejsMVje0yoMs",
        "outputId": "afd9975f-b097-4948-958b-5937ee53d79e"
      },
      "execution_count": 27,
      "outputs": [
        {
          "output_type": "display_data",
          "data": {
            "text/html": [
              "\n",
              "  <div id=\"df-2a4b9f6d-bb38-4f75-abb5-f8534fc773fb\">\n",
              "    <div class=\"colab-df-container\">\n",
              "      <div>\n",
              "<style scoped>\n",
              "    .dataframe tbody tr th:only-of-type {\n",
              "        vertical-align: middle;\n",
              "    }\n",
              "\n",
              "    .dataframe tbody tr th {\n",
              "        vertical-align: top;\n",
              "    }\n",
              "\n",
              "    .dataframe thead th {\n",
              "        text-align: right;\n",
              "    }\n",
              "</style>\n",
              "<table border=\"1\" class=\"dataframe\">\n",
              "  <thead>\n",
              "    <tr style=\"text-align: right;\">\n",
              "      <th></th>\n",
              "      <th>ABSTRACT</th>\n",
              "      <th>topic_1</th>\n",
              "      <th>topic_2</th>\n",
              "      <th>topic_3</th>\n",
              "    </tr>\n",
              "  </thead>\n",
              "  <tbody>\n",
              "    <tr>\n",
              "      <th>0</th>\n",
              "      <td>predictive models allow subject specific infer...</td>\n",
              "      <td>0.2071891806195836</td>\n",
              "      <td>0.0567651933794098</td>\n",
              "      <td>0.0202123198643426</td>\n",
              "    </tr>\n",
              "    <tr>\n",
              "      <th>1</th>\n",
              "      <td>rotation invariance and translation invariance...</td>\n",
              "      <td>0.1173418837819297</td>\n",
              "      <td>0.1743991297985862</td>\n",
              "      <td>0.0574343763531573</td>\n",
              "    </tr>\n",
              "    <tr>\n",
              "      <th>2</th>\n",
              "      <td>we introduce and develop the notion of spheric...</td>\n",
              "      <td>0.1421031212838040</td>\n",
              "      <td>-0.0521692706641622</td>\n",
              "      <td>-0.1372000962235182</td>\n",
              "    </tr>\n",
              "    <tr>\n",
              "      <th>3</th>\n",
              "      <td>the stochastic landau lifshitz gilbert equatio...</td>\n",
              "      <td>0.1931405942040868</td>\n",
              "      <td>-0.1198886957486045</td>\n",
              "      <td>-0.1775586816547085</td>\n",
              "    </tr>\n",
              "    <tr>\n",
              "      <th>4</th>\n",
              "      <td>fourier transform infra red spectra of samples...</td>\n",
              "      <td>0.2022073234877554</td>\n",
              "      <td>0.1239405920651345</td>\n",
              "      <td>0.0474769109614565</td>\n",
              "    </tr>\n",
              "    <tr>\n",
              "      <th>...</th>\n",
              "      <td>...</td>\n",
              "      <td>...</td>\n",
              "      <td>...</td>\n",
              "      <td>...</td>\n",
              "    </tr>\n",
              "    <tr>\n",
              "      <th>20967</th>\n",
              "      <td>machine learning is finding increasingly broad...</td>\n",
              "      <td>0.2658088571489268</td>\n",
              "      <td>0.1967297726035948</td>\n",
              "      <td>0.0337455811015355</td>\n",
              "    </tr>\n",
              "    <tr>\n",
              "      <th>20968</th>\n",
              "      <td>polycrystalline diamond coatings have been gro...</td>\n",
              "      <td>0.1758350580046567</td>\n",
              "      <td>-0.0799876626928605</td>\n",
              "      <td>0.0796650017289814</td>\n",
              "    </tr>\n",
              "    <tr>\n",
              "      <th>20969</th>\n",
              "      <td>we present a new approach for identifying situ...</td>\n",
              "      <td>0.2320740862271884</td>\n",
              "      <td>0.1014434278278053</td>\n",
              "      <td>0.0443675602168403</td>\n",
              "    </tr>\n",
              "    <tr>\n",
              "      <th>20970</th>\n",
              "      <td>the sum of log normal variates is encountered ...</td>\n",
              "      <td>0.2244416947775282</td>\n",
              "      <td>0.0197981638868442</td>\n",
              "      <td>-0.0795361180570024</td>\n",
              "    </tr>\n",
              "    <tr>\n",
              "      <th>20971</th>\n",
              "      <td>recently optional stopping has been a subject ...</td>\n",
              "      <td>0.1296020498537117</td>\n",
              "      <td>0.0163471008869462</td>\n",
              "      <td>-0.0158475293340115</td>\n",
              "    </tr>\n",
              "  </tbody>\n",
              "</table>\n",
              "<p>20972 rows × 4 columns</p>\n",
              "</div>\n",
              "      <button class=\"colab-df-convert\" onclick=\"convertToInteractive('df-2a4b9f6d-bb38-4f75-abb5-f8534fc773fb')\"\n",
              "              title=\"Convert this dataframe to an interactive table.\"\n",
              "              style=\"display:none;\">\n",
              "        \n",
              "  <svg xmlns=\"http://www.w3.org/2000/svg\" height=\"24px\"viewBox=\"0 0 24 24\"\n",
              "       width=\"24px\">\n",
              "    <path d=\"M0 0h24v24H0V0z\" fill=\"none\"/>\n",
              "    <path d=\"M18.56 5.44l.94 2.06.94-2.06 2.06-.94-2.06-.94-.94-2.06-.94 2.06-2.06.94zm-11 1L8.5 8.5l.94-2.06 2.06-.94-2.06-.94L8.5 2.5l-.94 2.06-2.06.94zm10 10l.94 2.06.94-2.06 2.06-.94-2.06-.94-.94-2.06-.94 2.06-2.06.94z\"/><path d=\"M17.41 7.96l-1.37-1.37c-.4-.4-.92-.59-1.43-.59-.52 0-1.04.2-1.43.59L10.3 9.45l-7.72 7.72c-.78.78-.78 2.05 0 2.83L4 21.41c.39.39.9.59 1.41.59.51 0 1.02-.2 1.41-.59l7.78-7.78 2.81-2.81c.8-.78.8-2.07 0-2.86zM5.41 20L4 18.59l7.72-7.72 1.47 1.35L5.41 20z\"/>\n",
              "  </svg>\n",
              "      </button>\n",
              "      \n",
              "  <style>\n",
              "    .colab-df-container {\n",
              "      display:flex;\n",
              "      flex-wrap:wrap;\n",
              "      gap: 12px;\n",
              "    }\n",
              "\n",
              "    .colab-df-convert {\n",
              "      background-color: #E8F0FE;\n",
              "      border: none;\n",
              "      border-radius: 50%;\n",
              "      cursor: pointer;\n",
              "      display: none;\n",
              "      fill: #1967D2;\n",
              "      height: 32px;\n",
              "      padding: 0 0 0 0;\n",
              "      width: 32px;\n",
              "    }\n",
              "\n",
              "    .colab-df-convert:hover {\n",
              "      background-color: #E2EBFA;\n",
              "      box-shadow: 0px 1px 2px rgba(60, 64, 67, 0.3), 0px 1px 3px 1px rgba(60, 64, 67, 0.15);\n",
              "      fill: #174EA6;\n",
              "    }\n",
              "\n",
              "    [theme=dark] .colab-df-convert {\n",
              "      background-color: #3B4455;\n",
              "      fill: #D2E3FC;\n",
              "    }\n",
              "\n",
              "    [theme=dark] .colab-df-convert:hover {\n",
              "      background-color: #434B5C;\n",
              "      box-shadow: 0px 1px 3px 1px rgba(0, 0, 0, 0.15);\n",
              "      filter: drop-shadow(0px 1px 2px rgba(0, 0, 0, 0.3));\n",
              "      fill: #FFFFFF;\n",
              "    }\n",
              "  </style>\n",
              "\n",
              "      <script>\n",
              "        const buttonEl =\n",
              "          document.querySelector('#df-2a4b9f6d-bb38-4f75-abb5-f8534fc773fb button.colab-df-convert');\n",
              "        buttonEl.style.display =\n",
              "          google.colab.kernel.accessAllowed ? 'block' : 'none';\n",
              "\n",
              "        async function convertToInteractive(key) {\n",
              "          const element = document.querySelector('#df-2a4b9f6d-bb38-4f75-abb5-f8534fc773fb');\n",
              "          const dataTable =\n",
              "            await google.colab.kernel.invokeFunction('convertToInteractive',\n",
              "                                                     [key], {});\n",
              "          if (!dataTable) return;\n",
              "\n",
              "          const docLinkHtml = 'Like what you see? Visit the ' +\n",
              "            '<a target=\"_blank\" href=https://colab.research.google.com/notebooks/data_table.ipynb>data table notebook</a>'\n",
              "            + ' to learn more about interactive tables.';\n",
              "          element.innerHTML = '';\n",
              "          dataTable['output_type'] = 'display_data';\n",
              "          await google.colab.output.renderOutput(dataTable, element);\n",
              "          const docLink = document.createElement('div');\n",
              "          docLink.innerHTML = docLinkHtml;\n",
              "          element.appendChild(docLink);\n",
              "        }\n",
              "      </script>\n",
              "    </div>\n",
              "  </div>\n",
              "  "
            ],
            "text/plain": [
              "                                                ABSTRACT  ...             topic_3\n",
              "0      predictive models allow subject specific infer...  ...  0.0202123198643426\n",
              "1      rotation invariance and translation invariance...  ...  0.0574343763531573\n",
              "2      we introduce and develop the notion of spheric...  ... -0.1372000962235182\n",
              "3      the stochastic landau lifshitz gilbert equatio...  ... -0.1775586816547085\n",
              "4      fourier transform infra red spectra of samples...  ...  0.0474769109614565\n",
              "...                                                  ...  ...                 ...\n",
              "20967  machine learning is finding increasingly broad...  ...  0.0337455811015355\n",
              "20968  polycrystalline diamond coatings have been gro...  ...  0.0796650017289814\n",
              "20969  we present a new approach for identifying situ...  ...  0.0443675602168403\n",
              "20970  the sum of log normal variates is encountered ...  ... -0.0795361180570024\n",
              "20971  recently optional stopping has been a subject ...  ... -0.0158475293340115\n",
              "\n",
              "[20972 rows x 4 columns]"
            ]
          },
          "metadata": {}
        }
      ]
    },
    {
      "cell_type": "code",
      "source": [
        "encoding_matrix = pd.DataFrame(svd_model.components_, index = [\"topic_1\", \"topic_2\", \"topic_3\"], columns = (dictionary)).T\n",
        "encoding_matrix"
      ],
      "metadata": {
        "colab": {
          "base_uri": "https://localhost:8080/",
          "height": 424
        },
        "id": "XopIFyD5zWoU",
        "outputId": "26434406-dbab-4996-93d3-f361303d0b04"
      },
      "execution_count": 28,
      "outputs": [
        {
          "output_type": "execute_result",
          "data": {
            "text/html": [
              "\n",
              "  <div id=\"df-47263242-8149-484d-9533-f752a1482500\">\n",
              "    <div class=\"colab-df-container\">\n",
              "      <div>\n",
              "<style scoped>\n",
              "    .dataframe tbody tr th:only-of-type {\n",
              "        vertical-align: middle;\n",
              "    }\n",
              "\n",
              "    .dataframe tbody tr th {\n",
              "        vertical-align: top;\n",
              "    }\n",
              "\n",
              "    .dataframe thead th {\n",
              "        text-align: right;\n",
              "    }\n",
              "</style>\n",
              "<table border=\"1\" class=\"dataframe\">\n",
              "  <thead>\n",
              "    <tr style=\"text-align: right;\">\n",
              "      <th></th>\n",
              "      <th>topic_1</th>\n",
              "      <th>topic_2</th>\n",
              "      <th>topic_3</th>\n",
              "    </tr>\n",
              "  </thead>\n",
              "  <tbody>\n",
              "    <tr>\n",
              "      <th>ability</th>\n",
              "      <td>0.0192322977135366</td>\n",
              "      <td>0.0205213105140465</td>\n",
              "      <td>0.0107959378287315</td>\n",
              "    </tr>\n",
              "    <tr>\n",
              "      <th>able</th>\n",
              "      <td>0.0301679542010698</td>\n",
              "      <td>0.0246825538368258</td>\n",
              "      <td>0.0133626132064894</td>\n",
              "    </tr>\n",
              "    <tr>\n",
              "      <th>access</th>\n",
              "      <td>0.0166161994003327</td>\n",
              "      <td>0.0116117103402418</td>\n",
              "      <td>0.0083041882864598</td>\n",
              "    </tr>\n",
              "    <tr>\n",
              "      <th>according</th>\n",
              "      <td>0.0142663860767034</td>\n",
              "      <td>0.0002691812734513</td>\n",
              "      <td>0.0012427851693836</td>\n",
              "    </tr>\n",
              "    <tr>\n",
              "      <th>account</th>\n",
              "      <td>0.0221807034571438</td>\n",
              "      <td>-0.0053490235322705</td>\n",
              "      <td>0.0147981894086972</td>\n",
              "    </tr>\n",
              "    <tr>\n",
              "      <th>...</th>\n",
              "      <td>...</td>\n",
              "      <td>...</td>\n",
              "      <td>...</td>\n",
              "    </tr>\n",
              "    <tr>\n",
              "      <th>would</th>\n",
              "      <td>0.0188156788366702</td>\n",
              "      <td>-0.0022971033592190</td>\n",
              "      <td>0.0151891889633883</td>\n",
              "    </tr>\n",
              "    <tr>\n",
              "      <th>years</th>\n",
              "      <td>0.0218188190864216</td>\n",
              "      <td>0.0130146439764505</td>\n",
              "      <td>0.0147572711700058</td>\n",
              "    </tr>\n",
              "    <tr>\n",
              "      <th>yet</th>\n",
              "      <td>0.0197081545267099</td>\n",
              "      <td>0.0115633579403511</td>\n",
              "      <td>0.0083904235971185</td>\n",
              "    </tr>\n",
              "    <tr>\n",
              "      <th>yields</th>\n",
              "      <td>0.0155540562530934</td>\n",
              "      <td>-0.0036199911588397</td>\n",
              "      <td>-0.0074904228518626</td>\n",
              "    </tr>\n",
              "    <tr>\n",
              "      <th>zero</th>\n",
              "      <td>0.0272903612856282</td>\n",
              "      <td>-0.0396809298685276</td>\n",
              "      <td>-0.0018343250251531</td>\n",
              "    </tr>\n",
              "  </tbody>\n",
              "</table>\n",
              "<p>1000 rows × 3 columns</p>\n",
              "</div>\n",
              "      <button class=\"colab-df-convert\" onclick=\"convertToInteractive('df-47263242-8149-484d-9533-f752a1482500')\"\n",
              "              title=\"Convert this dataframe to an interactive table.\"\n",
              "              style=\"display:none;\">\n",
              "        \n",
              "  <svg xmlns=\"http://www.w3.org/2000/svg\" height=\"24px\"viewBox=\"0 0 24 24\"\n",
              "       width=\"24px\">\n",
              "    <path d=\"M0 0h24v24H0V0z\" fill=\"none\"/>\n",
              "    <path d=\"M18.56 5.44l.94 2.06.94-2.06 2.06-.94-2.06-.94-.94-2.06-.94 2.06-2.06.94zm-11 1L8.5 8.5l.94-2.06 2.06-.94-2.06-.94L8.5 2.5l-.94 2.06-2.06.94zm10 10l.94 2.06.94-2.06 2.06-.94-2.06-.94-.94-2.06-.94 2.06-2.06.94z\"/><path d=\"M17.41 7.96l-1.37-1.37c-.4-.4-.92-.59-1.43-.59-.52 0-1.04.2-1.43.59L10.3 9.45l-7.72 7.72c-.78.78-.78 2.05 0 2.83L4 21.41c.39.39.9.59 1.41.59.51 0 1.02-.2 1.41-.59l7.78-7.78 2.81-2.81c.8-.78.8-2.07 0-2.86zM5.41 20L4 18.59l7.72-7.72 1.47 1.35L5.41 20z\"/>\n",
              "  </svg>\n",
              "      </button>\n",
              "      \n",
              "  <style>\n",
              "    .colab-df-container {\n",
              "      display:flex;\n",
              "      flex-wrap:wrap;\n",
              "      gap: 12px;\n",
              "    }\n",
              "\n",
              "    .colab-df-convert {\n",
              "      background-color: #E8F0FE;\n",
              "      border: none;\n",
              "      border-radius: 50%;\n",
              "      cursor: pointer;\n",
              "      display: none;\n",
              "      fill: #1967D2;\n",
              "      height: 32px;\n",
              "      padding: 0 0 0 0;\n",
              "      width: 32px;\n",
              "    }\n",
              "\n",
              "    .colab-df-convert:hover {\n",
              "      background-color: #E2EBFA;\n",
              "      box-shadow: 0px 1px 2px rgba(60, 64, 67, 0.3), 0px 1px 3px 1px rgba(60, 64, 67, 0.15);\n",
              "      fill: #174EA6;\n",
              "    }\n",
              "\n",
              "    [theme=dark] .colab-df-convert {\n",
              "      background-color: #3B4455;\n",
              "      fill: #D2E3FC;\n",
              "    }\n",
              "\n",
              "    [theme=dark] .colab-df-convert:hover {\n",
              "      background-color: #434B5C;\n",
              "      box-shadow: 0px 1px 3px 1px rgba(0, 0, 0, 0.15);\n",
              "      filter: drop-shadow(0px 1px 2px rgba(0, 0, 0, 0.3));\n",
              "      fill: #FFFFFF;\n",
              "    }\n",
              "  </style>\n",
              "\n",
              "      <script>\n",
              "        const buttonEl =\n",
              "          document.querySelector('#df-47263242-8149-484d-9533-f752a1482500 button.colab-df-convert');\n",
              "        buttonEl.style.display =\n",
              "          google.colab.kernel.accessAllowed ? 'block' : 'none';\n",
              "\n",
              "        async function convertToInteractive(key) {\n",
              "          const element = document.querySelector('#df-47263242-8149-484d-9533-f752a1482500');\n",
              "          const dataTable =\n",
              "            await google.colab.kernel.invokeFunction('convertToInteractive',\n",
              "                                                     [key], {});\n",
              "          if (!dataTable) return;\n",
              "\n",
              "          const docLinkHtml = 'Like what you see? Visit the ' +\n",
              "            '<a target=\"_blank\" href=https://colab.research.google.com/notebooks/data_table.ipynb>data table notebook</a>'\n",
              "            + ' to learn more about interactive tables.';\n",
              "          element.innerHTML = '';\n",
              "          dataTable['output_type'] = 'display_data';\n",
              "          await google.colab.output.renderOutput(dataTable, element);\n",
              "          const docLink = document.createElement('div');\n",
              "          docLink.innerHTML = docLinkHtml;\n",
              "          element.appendChild(docLink);\n",
              "        }\n",
              "      </script>\n",
              "    </div>\n",
              "  </div>\n",
              "  "
            ],
            "text/plain": [
              "                     topic_1             topic_2             topic_3\n",
              "ability   0.0192322977135366  0.0205213105140465  0.0107959378287315\n",
              "able      0.0301679542010698  0.0246825538368258  0.0133626132064894\n",
              "access    0.0166161994003327  0.0116117103402418  0.0083041882864598\n",
              "according 0.0142663860767034  0.0002691812734513  0.0012427851693836\n",
              "account   0.0221807034571438 -0.0053490235322705  0.0147981894086972\n",
              "...                      ...                 ...                 ...\n",
              "would     0.0188156788366702 -0.0022971033592190  0.0151891889633883\n",
              "years     0.0218188190864216  0.0130146439764505  0.0147572711700058\n",
              "yet       0.0197081545267099  0.0115633579403511  0.0083904235971185\n",
              "yields    0.0155540562530934 -0.0036199911588397 -0.0074904228518626\n",
              "zero      0.0272903612856282 -0.0396809298685276 -0.0018343250251531\n",
              "\n",
              "[1000 rows x 3 columns]"
            ]
          },
          "metadata": {},
          "execution_count": 28
        }
      ]
    },
    {
      "cell_type": "code",
      "source": [
        "plt.plot((svd_model.singular_values_), 'o')\n",
        "plt.ylabel(\"Eigenvalue\")\n",
        "plt.xlabel(\"Index\")\n",
        "plt.show()"
      ],
      "metadata": {
        "colab": {
          "base_uri": "https://localhost:8080/",
          "height": 279
        },
        "id": "PrHb--E_z7Au",
        "outputId": "0047fc67-b1ab-4447-867a-3455292ad376"
      },
      "execution_count": 41,
      "outputs": [
        {
          "output_type": "display_data",
          "data": {
            "image/png": "[encoded data removed]",
            "text/plain": [
              "<Figure size 432x288 with 1 Axes>"
            ]
          },
          "metadata": {
            "needs_background": "light"
          }
        }
      ]
    },
    {
      "cell_type": "code",
      "source": [
        "plt.plot(svd_model.singular_values_)\n",
        "plt.ylabel(\"Eigenvalue\")\n",
        "plt.xlabel(\"Index\")\n",
        "plt.show()"
      ],
      "metadata": {
        "colab": {
          "base_uri": "https://localhost:8080/",
          "height": 279
        },
        "id": "3tfrjBEQ0DR9",
        "outputId": "b2fb8d9c-da33-4271-940a-ff90208cf549"
      },
      "execution_count": 40,
      "outputs": [
        {
          "output_type": "display_data",
          "data": {
            "image/png": "[encoded data removed]",
            "text/plain": [
              "<Figure size 432x288 with 1 Axes>"
            ]
          },
          "metadata": {
            "needs_background": "light"
          }
        }
      ]
    },
    {
      "cell_type": "markdown",
      "source": [
        "Here we extract top 20 words inside each topic. This helps us to label the topic for further analysis at the end. "
      ],
      "metadata": {
        "id": "M8xylec_DyM6"
      }
    },
    {
      "cell_type": "code",
      "source": [
        "for i, latent_component in enumerate(svd_model.components_):\n",
        "    terms_comp = zip(dictionary, latent_component) #for each topic score is assigned to 1000 terms obtained from tf-idf so we are zipping term and its score \n",
        "    sorted_terms = sorted(terms_comp, key=lambda x:x[1], reverse=True)[:20] #sorting is descending order DEFAULT is ascending \n",
        "    terms_str = \",\".join([term[0] for term in sorted_terms])\n",
        "    print(f\"Topic {i + 1}: {terms_str}\")"
      ],
      "metadata": {
        "colab": {
          "base_uri": "https://localhost:8080/"
        },
        "id": "x0JhmEspzhPG",
        "outputId": "3584ef97-496a-4186-d61b-fcce974ce2cb"
      },
      "execution_count": 32,
      "outputs": [
        {
          "output_type": "stream",
          "name": "stdout",
          "text": [
            "Topic 1: time,results,networks,different,performance,number,analysis,order,present,function,information,neural,space,algorithms,first,work,field,set,deep,framework\n",
            "Topic 2: neural,networks,deep,training,neural networks,performance,task,tasks,classification,image,machine,information,dataset,datasets,images,convolutional,trained,algorithms,accuracy,features\n",
            "Topic 3: magnetic,spin,phase,temperature,energy,field,quantum,electron,transition,low,optical,states,magnetic field,effect,observed,mass,range,measurements,electronic,coupling\n"
          ]
        }
      ]
    },
    {
      "cell_type": "code",
      "source": [
        "#Values assoiated to each word corresponding to respected topic \n",
        "for i, comp in enumerate(svd_model.components_): \n",
        "    terms_comp = zip(dictionary, comp) \n",
        "    sorted_terms = sorted(terms_comp, key= lambda x:x[1],        \n",
        "    reverse=True)[:20]\n",
        "    for t in sorted_terms: \n",
        "        print(f\"Topic {i + 1}: {t}\")"
      ],
      "metadata": {
        "colab": {
          "base_uri": "https://localhost:8080/"
        },
        "id": "wwuz6_n2zmVU",
        "outputId": "a17eb9ac-73ae-457e-9613-f3d30c3c386e"
      },
      "execution_count": 33,
      "outputs": [
        {
          "output_type": "stream",
          "name": "stdout",
          "text": [
            "Topic 1: ('time', 0.14228619568383483)\n",
            "Topic 1: ('results', 0.1286219768405486)\n",
            "Topic 1: ('networks', 0.10681276514190707)\n",
            "Topic 1: ('different', 0.09448816992015793)\n",
            "Topic 1: ('performance', 0.09338223186373487)\n",
            "Topic 1: ('number', 0.09271619427527025)\n",
            "Topic 1: ('analysis', 0.09243538280705854)\n",
            "Topic 1: ('order', 0.08621353511615011)\n",
            "Topic 1: ('present', 0.08532807950986228)\n",
            "Topic 1: ('function', 0.08429400118121413)\n",
            "Topic 1: ('information', 0.08419003415674392)\n",
            "Topic 1: ('neural', 0.08298144338283596)\n",
            "Topic 1: ('space', 0.08103029329827226)\n",
            "Topic 1: ('algorithms', 0.08054398573667536)\n",
            "Topic 1: ('first', 0.08009370207683571)\n",
            "Topic 1: ('work', 0.07946661687319036)\n",
            "Topic 1: ('field', 0.07917739966637724)\n",
            "Topic 1: ('set', 0.07603850089863189)\n",
            "Topic 1: ('deep', 0.07580909244295571)\n",
            "Topic 1: ('framework', 0.07446214614383956)\n",
            "Topic 2: ('neural', 0.22625788040966377)\n",
            "Topic 2: ('networks', 0.2177334925953676)\n",
            "Topic 2: ('deep', 0.19213044565955115)\n",
            "Topic 2: ('training', 0.17124670161279532)\n",
            "Topic 2: ('neural networks', 0.13392761273601003)\n",
            "Topic 2: ('performance', 0.12940472555830704)\n",
            "Topic 2: ('task', 0.10035996760714055)\n",
            "Topic 2: ('tasks', 0.099639574018609)\n",
            "Topic 2: ('classification', 0.097471329561071)\n",
            "Topic 2: ('image', 0.09310876178797457)\n",
            "Topic 2: ('machine', 0.08552283991694924)\n",
            "Topic 2: ('information', 0.0838197145222814)\n",
            "Topic 2: ('dataset', 0.08043154385331067)\n",
            "Topic 2: ('datasets', 0.07935306376951735)\n",
            "Topic 2: ('images', 0.07852925016496287)\n",
            "Topic 2: ('convolutional', 0.07837703056450732)\n",
            "Topic 2: ('trained', 0.07712211719057738)\n",
            "Topic 2: ('algorithms', 0.07648008301035557)\n",
            "Topic 2: ('accuracy', 0.0729911212266107)\n",
            "Topic 2: ('features', 0.07219834389889655)\n",
            "Topic 3: ('magnetic', 0.22572052190547254)\n",
            "Topic 3: ('spin', 0.2195802386308611)\n",
            "Topic 3: ('phase', 0.14443487698053045)\n",
            "Topic 3: ('temperature', 0.13949225453913114)\n",
            "Topic 3: ('energy', 0.13190190745547895)\n",
            "Topic 3: ('field', 0.1313189341922021)\n",
            "Topic 3: ('quantum', 0.10121087046831317)\n",
            "Topic 3: ('electron', 0.09046481097447416)\n",
            "Topic 3: ('transition', 0.08717972510284949)\n",
            "Topic 3: ('low', 0.08041442353176355)\n",
            "Topic 3: ('optical', 0.08031590029902726)\n",
            "Topic 3: ('states', 0.07613935610987292)\n",
            "Topic 3: ('magnetic field', 0.0747377803163707)\n",
            "Topic 3: ('effect', 0.07408448033305404)\n",
            "Topic 3: ('observed', 0.0695013648681118)\n",
            "Topic 3: ('mass', 0.0673853989253679)\n",
            "Topic 3: ('range', 0.06512022710416034)\n",
            "Topic 3: ('measurements', 0.06464719855801661)\n",
            "Topic 3: ('electronic', 0.06278987225150634)\n",
            "Topic 3: ('coupling', 0.06259311126895954)\n"
          ]
        }
      ]
    },
    {
      "cell_type": "markdown",
      "source": [
        "##Final Evaluation"
      ],
      "metadata": {
        "id": "N4D1EKLnv24B"
      }
    },
    {
      "cell_type": "code",
      "source": [
        "def get_model_topics(model, topics):\n",
        "    word_dict = {}\n",
        "    for i, latent_component in enumerate(svd_model.components_):\n",
        "      terms_comp = zip(dictionary, latent_component)  \n",
        "      sorted_terms = sorted(terms_comp, key=lambda x:x[1], reverse=True)[:10] \n",
        "      terms_str = [a_tuple[0] for a_tuple in sorted_terms]\n",
        "      word_dict[topics[i]] = terms_str\n",
        "\n",
        "    return pd.DataFrame(word_dict)"
      ],
      "metadata": {
        "id": "FHrpqIEY0GZO"
      },
      "execution_count": 34,
      "outputs": []
    },
    {
      "cell_type": "code",
      "source": [
        "def get_inference(model, vectorizer, topics, text, threshold):\n",
        "    v_text = vectorizer.transform([text])\n",
        "    score = svd_model.transform(v_text)\n",
        "\n",
        "    labels = set()\n",
        "    for i in range(len(score[0])):\n",
        "        if score[0][i] > threshold:\n",
        "            labels.add(topics[i])  #we only those topic to label set for which score is greater then 0\n",
        "\n",
        "    if not labels:\n",
        "        return 'None', -1, set()\n",
        "\n",
        "    return topics[np.argmax(score)], score, labels"
      ],
      "metadata": {
        "id": "_HoYN7EZ0KJ_"
      },
      "execution_count": 49,
      "outputs": []
    },
    {
      "cell_type": "markdown",
      "source": [
        "Random inputs to test our model"
      ],
      "metadata": {
        "id": "gDRRVKnSx-No"
      }
    },
    {
      "cell_type": "code",
      "source": [
        "text = 'Artificial intelligence (AI) is the ability of a computer or a robot controlled by a computer to do tasks that are usually done by humans because they require human intelligence and discernment.'"
      ],
      "metadata": {
        "id": "sC6Umyh-0MCW"
      },
      "execution_count": 36,
      "outputs": []
    },
    {
      "cell_type": "code",
      "source": [
        "text = 'induction is the production of an electromotive force across an electrical conductor in a changing magnetic field. Michael Faraday is generally credited with the discovery of induction in 1831, and James Clerk Maxwell mathematically described it as Faraday law of induction.'"
      ],
      "metadata": {
        "id": "uc21k9meLRTG"
      },
      "execution_count": null,
      "outputs": []
    },
    {
      "cell_type": "code",
      "source": [
        "text = 'Many concepts of deep learning concepts have been derived by assimilating the concepts of statistics. '"
      ],
      "metadata": {
        "id": "UEnB4wofMVOb"
      },
      "execution_count": null,
      "outputs": []
    },
    {
      "cell_type": "code",
      "source": [
        "text = 'Fitness and sport have drawn significant attention in wearable and persuasive computing. Physical activities are worthwhile for health, well-being, improved fitness levels, lower mental pressure and tension levels. Nonetheless, during high-power and commanding workouts, there is a high likelihood that physical fitness is seriously influenced. Jarring motions and improper posture during workouts can lead to temporary or permanent disability. With the advent of technological advances, activity acknowledgment dependent on wearable sensors has pulled in countless studies. Still, a fully portable smart fitness suite is not industrialized, which is the central need of today’s time, especially in the Covid-19 pandemic. Considering the effectiveness of this issue, we proposed a fully portable smart fitness suite for the household to carry on their routine exercises without any physical gym trainer and gym environment. The proposed system considers two exercises, i.e., T-bar and bicep curl with the assistance of the virtual real-time android application, acting as a gym trainer overall. The proposed fitness suite is embedded with a gyroscope and EMG sensory modules for performing the above two exercises. It provided alerts on unhealthy, wrong posture movements over an android app and is guided to the best possible posture based on sensor values. The KNN classification model is used for prediction and guidance for the user while performing a particular exercise with the help of an android application-based virtual gym trainer through a text-to-speech module. The proposed system attained 89% accuracy, which is quite effective with portability and a virtually assisted gym trainer feature. '"
      ],
      "metadata": {
        "id": "1T4pZN5CbRmd"
      },
      "execution_count": null,
      "outputs": []
    },
    {
      "cell_type": "code",
      "source": [
        "text = 'Graph convolution neural networks are really good for detcting anti money laundering'"
      ],
      "metadata": {
        "id": "tzsr6OlAuotE"
      },
      "execution_count": 51,
      "outputs": []
    },
    {
      "cell_type": "code",
      "source": [
        "text = 'the branch of science concerned with the nature and properties of matter and energy. The subject matter of physics includes mechanics, heat, light and other radiation, sound, electricity, magnetism, and the structure of atoms.'"
      ],
      "metadata": {
        "id": "oKyAGlqcviVn"
      },
      "execution_count": null,
      "outputs": []
    },
    {
      "cell_type": "code",
      "source": [
        "text = 'the theory and development of computer systems able to perform tasks normally requiring human intelligence, such as visual perception, speech recognition, decision-making, and translation between languages.'"
      ],
      "metadata": {
        "id": "UbwLRS0LvrcK"
      },
      "execution_count": 42,
      "outputs": []
    },
    {
      "cell_type": "code",
      "source": [
        "text = 'the abstract science of number, quantity, and space, either as abstract concepts ( pure mathematics ), or as applied to other disciplines such as physics and engineering ( applied mathematics ).'"
      ],
      "metadata": {
        "id": "He2ujccAvzUC"
      },
      "execution_count": null,
      "outputs": []
    },
    {
      "cell_type": "code",
      "source": [
        "text = 'Computer science is the study of computation, automation, and information. Computer science spans theoretical disciplines, such as algorithms, theory of computation, and information theory, to practical disciplines including the design and implementation of hardware and software.'"
      ],
      "metadata": {
        "id": "roo4OFxzv7_y"
      },
      "execution_count": null,
      "outputs": []
    },
    {
      "cell_type": "code",
      "source": [
        "text = 'Algebra is one of the broad areas of mathematics. Roughly speaking, algebra is the study of mathematical symbols and the rules for manipulating these symbols; it is a unifying thread of almost all of mathematics'"
      ],
      "metadata": {
        "id": "TbPyDvU1wL4f"
      },
      "execution_count": 44,
      "outputs": []
    },
    {
      "cell_type": "code",
      "source": [
        "text = 'Deep learning is a machine learning technique that teaches computers to do what comes naturally to humans: learn by example. ... In deep learning, a computer model learns to perform classification tasks directly from images, text, or sound.'"
      ],
      "metadata": {
        "id": "Sv3WaHqmwgmn"
      },
      "execution_count": null,
      "outputs": []
    },
    {
      "cell_type": "code",
      "source": [
        "text = 'Static electricity is an imbalance of electric charges within or on the surface of a material or between materials. The charge remains until it is able to move away by means of an electric current or electrical discharge.'"
      ],
      "metadata": {
        "id": "sSLqBORIwvgn"
      },
      "execution_count": null,
      "outputs": []
    },
    {
      "cell_type": "markdown",
      "source": [
        "From the analysis of top words from each topic. I infer that these topic belong to following categories:\n",
        "1. Computer Science/ Statistics / Mathematics\n",
        "2. AI \n",
        "3. Physics\n",
        "\n",
        "Since most of the reseasrch articles were AI based therefore there is an overlap between statistics, mathematics and computer science topic. And it is evident from our dataset as well that one research article may belong to one or more categories. \n",
        "\n",
        "**Note:** AI was not mentioned as a topic inside our dataset but with the help of LSA/SVD we have extracted this specific topic out of corpora. "
      ],
      "metadata": {
        "id": "_8HztOfruxmM"
      }
    },
    {
      "cell_type": "code",
      "source": [
        "lsa_topics = ['Computer Science/ Statistics / Mathematics', 'AI', 'Physics']"
      ],
      "metadata": {
        "id": "JUeGWew50OSw"
      },
      "execution_count": 37,
      "outputs": []
    },
    {
      "cell_type": "markdown",
      "source": [
        "\n",
        "Testing how our SVD/LSA model performs when we pass random text as input. "
      ],
      "metadata": {
        "id": "GpP3IpVlvmkG"
      }
    },
    {
      "cell_type": "code",
      "source": [
        "print(get_model_topics(lsa, lsa_topics))\n",
        "topic, score, _ = get_inference(lsa, vectorizer, lsa_topics, text, 0) # '_' represents the labels but I do not display it since its is already evident from output\n",
        "print()\n",
        "print(text)\n",
        "print(topic, score)\n",
        "print()"
      ],
      "metadata": {
        "colab": {
          "base_uri": "https://localhost:8080/"
        },
        "id": "Bx5V1Nj80gNz",
        "outputId": "204e4354-61ff-4672-8f28-207bd49e1fd2"
      },
      "execution_count": 52,
      "outputs": [
        {
          "output_type": "stream",
          "name": "stdout",
          "text": [
            "  Computer Science/ Statistics / Mathematics               AI      Physics\n",
            "0                                       time           neural     magnetic\n",
            "1                                    results         networks         spin\n",
            "2                                   networks             deep        phase\n",
            "3                                  different         training  temperature\n",
            "4                                performance  neural networks       energy\n",
            "5                                     number      performance        field\n",
            "6                                   analysis             task      quantum\n",
            "7                                      order            tasks     electron\n",
            "8                                    present   classification   transition\n",
            "9                                   function            image          low\n",
            "\n",
            "Graph convolution neural networks are really good for detcting anti money laundering\n",
            "AI [[ 0.13687763  0.25320411 -0.00126037]]\n",
            "\n"
          ]
        }
      ]
    }
  ]
}